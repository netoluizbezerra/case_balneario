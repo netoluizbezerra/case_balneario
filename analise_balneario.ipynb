{
 "cells": [
  {
   "cell_type": "code",
   "execution_count": 1,
   "metadata": {},
   "outputs": [
    {
     "data": {
      "text/html": [
       "<style>.container { width:100% !important; }</style>"
      ],
      "text/plain": [
       "<IPython.core.display.HTML object>"
      ]
     },
     "metadata": {},
     "output_type": "display_data"
    },
    {
     "data": {
      "text/plain": [
       "'LC_CTYPE=pt_BR.UTF-8;LC_NUMERIC=pt_BR.UTF-8;LC_TIME=pt_BR.UTF-8;LC_COLLATE=en_US.UTF-8;LC_MONETARY=pt_BR.UTF-8;LC_MESSAGES=en_US.UTF-8;LC_PAPER=pt_BR.UTF-8;LC_NAME=pt_BR.UTF-8;LC_ADDRESS=pt_BR.UTF-8;LC_TELEPHONE=pt_BR.UTF-8;LC_MEASUREMENT=pt_BR.UTF-8;LC_IDENTIFICATION=pt_BR.UTF-8'"
      ]
     },
     "execution_count": 1,
     "metadata": {},
     "output_type": "execute_result"
    }
   ],
   "source": [
    "import locale\n",
    "import pandas as pd\n",
    "from IPython.display import display, HTML\n",
    "display(HTML(\"<style>.container { width:100% !important; }</style>\"))\n",
    "locale.setlocale(locale.LC_ALL, '')"
   ]
  },
  {
   "cell_type": "code",
   "execution_count": 7,
   "metadata": {},
   "outputs": [
    {
     "data": {
      "text/html": [
       "<style>.prompt{width: 0px; min-width: 0px; visibility: collapse}</style>"
      ],
      "text/plain": [
       "<IPython.core.display.HTML object>"
      ]
     },
     "metadata": {},
     "output_type": "display_data"
    },
    {
     "data": {
      "text/html": [
       "<script>\n",
       "code_show=true; \n",
       "function code_toggle() {\n",
       " if (code_show){\n",
       " $('div.input').hide();\n",
       " } else {\n",
       " $('div.input').show();\n",
       " }\n",
       " code_show = !code_show\n",
       "} \n",
       "$( document ).ready(code_toggle);\n",
       "</script>\n",
       "<form action=\"javascript:code_toggle()\"><input type=\"submit\" value=\"Click here to toggle on/off the raw code.\"></form>"
      ],
      "text/plain": [
       "<IPython.core.display.HTML object>"
      ]
     },
     "execution_count": 7,
     "metadata": {},
     "output_type": "execute_result"
    }
   ],
   "source": [
    "#!/usr/bin/env python -W ignore::DeprecationWarning\n",
    "from IPython.core.display import display,HTML\n",
    "display(HTML('<style>.prompt{width: 0px; min-width: 0px; visibility: collapse}</style>'))\n",
    "from IPython.display import HTML\n",
    "HTML('''<script>\n",
    "code_show=true; \n",
    "function code_toggle() {\n",
    " if (code_show){\n",
    " $('div.input').hide();\n",
    " } else {\n",
    " $('div.input').show();\n",
    " }\n",
    " code_show = !code_show\n",
    "} \n",
    "$( document ).ready(code_toggle);\n",
    "</script>\n",
    "<form action=\"javascript:code_toggle()\"><input type=\"submit\" value=\"Click here to toggle on/off the raw code.\"></form>''')"
   ]
  },
  {
   "cell_type": "code",
   "execution_count": 8,
   "metadata": {},
   "outputs": [],
   "source": [
    "file = 'balneario_camboriu.xlsx'\n"
   ]
  },
  {
   "cell_type": "markdown",
   "metadata": {},
   "source": [
    "<img src=\"balneario_ml/images/invest_logo.png\" align=\"left\" width=\"200\">"
   ]
  },
  {
   "cell_type": "markdown",
   "metadata": {},
   "source": [
    "# Análise de Precificação - Balneário Camboriú"
   ]
  },
  {
   "cell_type": "markdown",
   "metadata": {},
   "source": [
    "Esta avaliação tem por objetivo a Determinação do Valor de ativo imobiliário, composto por dois terrenos contíguos, localizados na região central de Balneário Camboriú. A avaliação foi feita com base em no potencial do terreno, estudo de massa fornecido por escritório local, coleta de dados públicos, consultas de legislação de uso e ocupação do solo e demais informações necessárias."
   ]
  },
  {
   "cell_type": "markdown",
   "metadata": {},
   "source": [
    "A avaliação está estruturada na seguinte ordem:"
   ]
  },
  {
   "cell_type": "markdown",
   "metadata": {},
   "source": [
    "1. Apresentação do Imóvel e Estudo de Potêncialização do Terreno\n",
    "2. Análise do valor m² de venda m²\n",
    "3. Análise de Venda por % do VGV"
   ]
  },
  {
   "cell_type": "markdown",
   "metadata": {},
   "source": [
    "> O laudo de avaliação de uso restrito. A  divulgação, no  todo  ou em parte das informações contidas neste relatório necessita de prévia autorização da empresa autora."
   ]
  },
  {
   "cell_type": "markdown",
   "metadata": {},
   "source": [
    "## Apresentação do Imóvel:"
   ]
  },
  {
   "cell_type": "markdown",
   "metadata": {},
   "source": [
    "Os terrenos estão localizados na Rua 901, entre a Avenida Brasil e Avenida das nações. Está em centro consolidado, com prédios relativamente baixos. A partir do [voo de drone](https://investrealtypar-my.sharepoint.com/:v:/g/personal/netoluizbezerra_investrealtypar_onmicrosoft_com/EYEz351EXx5FmhI6n4Ufy1YBjde8EYKSRyQpoiO_r1AcjA?e=H8yLsS), é possível perceber que o futuro empreendimento poderá ter vista mar a partir de 60 metros de altura. "
   ]
  },
  {
   "cell_type": "markdown",
   "metadata": {},
   "source": [
    "<img src='balneario_ml/images/terreno.jpg' width='900'></tr></table>"
   ]
  },
  {
   "cell_type": "markdown",
   "metadata": {},
   "source": [
    "A consulta de viabilidade, realizada junto a prefeitura, aponta que não há a identificação de vegetação local, o que limita difculdades de ordem ambiental. "
   ]
  },
  {
   "cell_type": "markdown",
   "metadata": {},
   "source": [
    "<img src='balneario_ml/images/viabilidade.png' width='900'></tr></table>"
   ]
  },
  {
   "cell_type": "markdown",
   "metadata": {},
   "source": [
    "Identificado zoneamento: ZACC | C - Zona de Ambiente Construído Consolidado Qualificado de Alta Densidade, são sugeridos os seguintes quadro de uso:"
   ]
  },
  {
   "cell_type": "code",
   "execution_count": 9,
   "metadata": {},
   "outputs": [],
   "source": [
    "import viab\n",
    "file = 'balneario_camboriu.xlsx'\n",
    "\n",
    "projeto_balneario = viab.Empreendimento(file=file)"
   ]
  },
  {
   "cell_type": "code",
   "execution_count": 10,
   "metadata": {},
   "outputs": [
    {
     "data": {
      "text/html": [
       "<div>\n",
       "<style scoped>\n",
       "    .dataframe tbody tr th:only-of-type {\n",
       "        vertical-align: middle;\n",
       "    }\n",
       "\n",
       "    .dataframe tbody tr th {\n",
       "        vertical-align: top;\n",
       "    }\n",
       "\n",
       "    .dataframe thead th {\n",
       "        text-align: right;\n",
       "    }\n",
       "</style>\n",
       "<table border=\"1\" class=\"dataframe\">\n",
       "  <thead>\n",
       "    <tr style=\"text-align: right;\">\n",
       "      <th></th>\n",
       "      <th>Parâmetros</th>\n",
       "    </tr>\n",
       "  </thead>\n",
       "  <tbody>\n",
       "    <tr>\n",
       "      <th>Zona de ocupação</th>\n",
       "      <td>ZACC – I – C</td>\n",
       "    </tr>\n",
       "    <tr>\n",
       "      <th>Uso Pretendido</th>\n",
       "      <td>Misto</td>\n",
       "    </tr>\n",
       "    <tr>\n",
       "      <th>Potencial Básico</th>\n",
       "      <td>3,50 X</td>\n",
       "    </tr>\n",
       "    <tr>\n",
       "      <th>TPC</th>\n",
       "      <td>0,88 X</td>\n",
       "    </tr>\n",
       "    <tr>\n",
       "      <th>Solo Criado</th>\n",
       "      <td>0,62 X</td>\n",
       "    </tr>\n",
       "    <tr>\n",
       "      <th>Total</th>\n",
       "      <td>5,00 X</td>\n",
       "    </tr>\n",
       "    <tr>\n",
       "      <th>Área Privativa Residencial</th>\n",
       "      <td>2505,00 m²</td>\n",
       "    </tr>\n",
       "    <tr>\n",
       "      <th>Área Privativa Comercial</th>\n",
       "      <td>350,00 m²</td>\n",
       "    </tr>\n",
       "  </tbody>\n",
       "</table>\n",
       "</div>"
      ],
      "text/plain": [
       "                              Parâmetros\n",
       "Zona de ocupação            ZACC – I – C\n",
       "Uso Pretendido                     Misto\n",
       "Potencial Básico                  3,50 X\n",
       "TPC                               0,88 X\n",
       "Solo Criado                       0,62 X\n",
       "Total                             5,00 X\n",
       "Área Privativa Residencial    2505,00 m²\n",
       "Área Privativa Comercial       350,00 m²"
      ]
     },
     "execution_count": 10,
     "metadata": {},
     "output_type": "execute_result"
    }
   ],
   "source": [
    "list_info = []\n",
    "list_param = []\n",
    "list_headers = []\n",
    "[list_info.append(projeto_balneario.initial_info_list[i][0]) for i in range(len(projeto_balneario.initial_info_list))]\n",
    "[list_param.append(projeto_balneario.initial_info_list[i][1]) for i in range(len(projeto_balneario.initial_info_list))]\n",
    "list_headers = ['Informações Gereais do Estudo', 'Parâmetros']\n",
    "pd.DataFrame(list_param, index=list_info, columns=['Parâmetros'])"
   ]
  },
  {
   "cell_type": "markdown",
   "metadata": {},
   "source": [
    "## Análise de Precificação"
   ]
  },
  {
   "cell_type": "code",
   "execution_count": 11,
   "metadata": {},
   "outputs": [],
   "source": [
    "df = pd.read_csv('imoveis_balneario_estudo.csv', index_col=None)"
   ]
  },
  {
   "cell_type": "code",
   "execution_count": null,
   "metadata": {},
   "outputs": [],
   "source": [
    "from IPython.display import display, Markdown\n",
    "import pandas as pd\n",
    "\n",
    "def head(df: pd.DataFrame, n_rows:int=1) -> None:\n",
    "    \"\"\"Pretty-print the head of a Pandas table in a Jupyter notebook and show its dimensions.\"\"\"\n",
    "    display(Markdown(\"**Tabela:** {} linhas × {} colunas\".format(len(df), len(df.columns))))\n",
    "    display(df.head(n_rows))"
   ]
  },
  {
   "cell_type": "markdown",
   "metadata": {},
   "source": [
    "#### Apresentação das Variáveis"
   ]
  },
  {
   "cell_type": "code",
   "execution_count": null,
   "metadata": {},
   "outputs": [],
   "source": [
    "head(df,10)"
   ]
  },
  {
   "cell_type": "markdown",
   "metadata": {},
   "source": [
    "- Foram extraídos 3.825 dados de acesso público de anuncios em portais da internet. \n",
    "- Data de Extração: 15/03/2021\n",
    "- Será realizado modelo de regressão linear simples, a fim de se obter valor por m² de venda, com base na área privativa, número de banheiros,vagas, quartos, suites, latitude e longitude."
   ]
  },
  {
   "cell_type": "code",
   "execution_count": null,
   "metadata": {},
   "outputs": [],
   "source": [
    "import pandas as pd\n",
    "import numpy as np\n",
    "# Import libraries\n",
    "import matplotlib.pyplot as plt\n",
    "%matplotlib inline\n",
    "plt.style.use('seaborn')\n",
    "import statsmodels.api as sm\n",
    "import scipy.stats as stats\n",
    "from sklearn.linear_model import LinearRegression\n",
    "from bokeh.io import output_notebook, show, output_file\n",
    "from bokeh.plotting import figure, ColumnDataSource\n",
    "from bokeh.tile_providers import get_provider, CARTODBPOSITRON\n",
    "from bokeh.palettes import Turbo256, RdYlGn\n",
    "from bokeh.transform import linear_cmap,factor_cmap\n",
    "from bokeh.models import ColorBar, NumeralTickFormatter\n",
    "import folium\n",
    "from folium.plugins import HeatMap\n",
    "import warnings\n",
    "import pandas as pd  #\n",
    "import numpy as np  # linear algebra\n",
    "from sklearn.model_selection import KFold, cross_val_score\n",
    "from sklearn.model_selection import train_test_split\n",
    "import os\n",
    "import matplotlib.pyplot as plt\n",
    "import seaborn as sns\n",
    "plt.style.use('seaborn')\n",
    "warnings.filterwarnings('ignore')"
   ]
  },
  {
   "cell_type": "code",
   "execution_count": null,
   "metadata": {},
   "outputs": [],
   "source": [
    "df['preco'] = np.log1p(df['preco'])\n",
    "df['area_util'] = np.log1p(df['area_util'])\n"
   ]
  },
  {
   "cell_type": "markdown",
   "metadata": {},
   "source": [
    "#### Mapa de calor - Preço por m² dos imóveis em Balneário Camboriú"
   ]
  },
  {
   "cell_type": "code",
   "execution_count": null,
   "metadata": {},
   "outputs": [],
   "source": [
    "\"\"\" BOKEH MAP \"\"\"\n",
    "# Define coord as tuple (lat,long)\n",
    "dfq1 = df\n",
    "dfq1['coord'] = list(zip(dfq1['latitude'], dfq1['longitude']))\n",
    "\n",
    "\n",
    "# Define function to switch from lat/long to mercator coordinates\n",
    "def x_coord(x, y):\n",
    "    lat = x\n",
    "    lon = y\n",
    "\n",
    "    r_major = 6378137.000\n",
    "    x = r_major * np.radians(lon)\n",
    "    scale = x / lon\n",
    "    y = 180.0 / np.pi * np.log(np.tan(np.pi / 4.0 +\n",
    "                                      lat * (np.pi / 180.0) / 2.0)) * scale\n",
    "    return (x, y)\n",
    "\n",
    "\n",
    "# Obtain list of mercator coordinates\n",
    "mercators = [x_coord(x, y) for x, y in dfq1['coord'] ]\n",
    "\n",
    "# Create column mercator\n",
    "dfq1['mercator'] = mercators\n",
    "\n",
    "# Define columns mercator_x and mercator_y\n",
    "dfq1[['mercator_x', 'mercator_y']] = dfq1['mercator'].apply(pd.Series)\n",
    "\n",
    "# Preview relevant columns\n",
    "dfq1[['mercator_x', 'mercator_y', 'preco']].head()\n",
    "\n",
    "# Create map with Bokeh\n",
    "\n",
    "# Set underlying map\n",
    "chosentile = get_provider(CARTODBPOSITRON)\n",
    "\n",
    "# Set palette\n",
    "palette = Turbo256\n",
    "\n",
    "# Set source to dfq1\n",
    "source = ColumnDataSource(data=dfq1)\n",
    "\n",
    "# Define color mapper\n",
    "color_mapper = linear_cmap(field_name = 'preco_m2', palette = palette, low = np.expm1(df['preco_m2']).min(),\n",
    "                                 high = np.expm1(dfq1['preco_m2']).max())\n",
    "\n",
    "# Set tooltips\n",
    "#nan_color = '#d9d9d9'\n",
    "tooltips = [(\"Preço\",\"@preco_m2\")]\n",
    "\n",
    "\n",
    "# Create figure\n",
    "p = figure(title = 'Mapa de Calor - Ofertas Disponíveis em Balneário Camboriú nos Principais Portais da Internet', x_axis_type=\"mercator\", y_axis_type=\"mercator\",\n",
    "           x_axis_label = 'Longitude', y_axis_label = 'Latitude', tooltips = tooltips, aspect_ratio=1.5, width=1000)\n",
    "\n",
    "# Add map tile\n",
    "p.add_tile(chosentile)\n",
    "\n",
    "\n",
    "# Add points using mercator coordinates\n",
    "p.circle(x = 'mercator_x', y = 'mercator_y', color = color_mapper, source=source)\n",
    "\n",
    "#Defines color bar\n",
    "color_bar = ColorBar(color_mapper=color_mapper['transform'],\n",
    "                     formatter = NumeralTickFormatter(format=\"0,0\"),\n",
    "                     label_standoff = 13, width=12, location=(0,0))\n",
    "\n",
    "# Set color_bar location\n",
    "p.add_layout(color_bar, 'right')\n",
    "\n",
    "# Display in notebook\n",
    "output_notebook()\n",
    "\n",
    "# Show map\n",
    "show(p)\n"
   ]
  },
  {
   "cell_type": "markdown",
   "metadata": {},
   "source": [
    "#### Gráfico de Dispersão - Preço por m² X Área Privativa dos imóveis em Balneário Camboriú"
   ]
  },
  {
   "cell_type": "code",
   "execution_count": null,
   "metadata": {},
   "outputs": [],
   "source": [
    "# Define list of continuous variables\n",
    "cont_feat = ['area_util']\n",
    "\n",
    "\n",
    "#  Plot jointplots\n",
    "for feature in cont_feat:\n",
    "    sns.jointplot(x = df[feature], y = df['preco'], kind = 'reg')"
   ]
  },
  {
   "cell_type": "code",
   "execution_count": null,
   "metadata": {},
   "outputs": [],
   "source": [
    "import geopandas as gpd\n",
    "from keplergl import KeplerGl\n",
    "from IPython.display import IFrame"
   ]
  },
  {
   "cell_type": "markdown",
   "metadata": {},
   "source": [
    "#### Análise Geográfica do Preço por m²"
   ]
  },
  {
   "cell_type": "code",
   "execution_count": null,
   "metadata": {},
   "outputs": [],
   "source": [
    "IFrame(src='./first_map.html', width=1200, height=600)\n"
   ]
  },
  {
   "cell_type": "code",
   "execution_count": null,
   "metadata": {},
   "outputs": [],
   "source": [
    "# Redefine X_train and y_train\n",
    "X_train = df.drop(['preco','longitude', 'latitude', 'preco_m2', 'coord', 'mercator', \"mercator_x\", 'mercator_y'], axis = 1)\n",
    "y_train = df['preco']\n"
   ]
  },
  {
   "cell_type": "markdown",
   "metadata": {},
   "source": [
    "#### Modelagem do Preço por M² - Regressão Linear"
   ]
  },
  {
   "cell_type": "code",
   "execution_count": null,
   "metadata": {},
   "outputs": [],
   "source": [
    "# Create model in OLS\n",
    "X_int = sm.add_constant(X_train)\n",
    "model = sm.OLS(y_train, X_int).fit()\n",
    "summary = model.summary()\n",
    "summary"
   ]
  },
  {
   "cell_type": "code",
   "execution_count": null,
   "metadata": {},
   "outputs": [],
   "source": [
    "# Modeling"
   ]
  },
  {
   "cell_type": "code",
   "execution_count": null,
   "metadata": {},
   "outputs": [],
   "source": [
    "# Create linear regression object\n",
    "linreg = LinearRegression()\n",
    "\n",
    "# Fit on training data\n",
    "linreg.fit(X_train, y_train)\n",
    "\n",
    "# Evaluate using rmse\n",
    "scores = cross_val_score(\n",
    "            linreg, \n",
    "            X_train,\n",
    "            y_train,\n",
    "            cv=10,\n",
    "            scoring=\"neg_mean_squared_error\"\n",
    ")\n"
   ]
  },
  {
   "cell_type": "code",
   "execution_count": null,
   "metadata": {},
   "outputs": [],
   "source": [
    "from sklearn.metrics import mean_squared_error\n",
    "def rmsle(y, y_pred):\n",
    "    return np.sqrt(mean_squared_error(y, y_pred))"
   ]
  },
  {
   "cell_type": "code",
   "execution_count": null,
   "metadata": {},
   "outputs": [],
   "source": [
    "# Create linear regression object\n",
    "linreg = LinearRegression()\n",
    "\n",
    "# Fit on training data\n",
    "linreg.fit(X_train, y_train)\n",
    "\n",
    "rmse_simple = (rmsle(np.expm1(y_train), np.expm1(linreg.predict(X_train))))\n",
    "\n",
    "# Evaluate using rmse\n",
    "scores = cross_val_score(\n",
    "            linreg,\n",
    "            X_train,\n",
    "            y_train,\n",
    "            cv=10,\n",
    "            scoring=\"neg_mean_squared_error\"\n",
    ")\n",
    "\n"
   ]
  },
  {
   "cell_type": "code",
   "execution_count": null,
   "metadata": {},
   "outputs": [],
   "source": [
    " X_train.loc[0] = [np.log1p(145), 4, 2, 4, 4, 0] "
   ]
  },
  {
   "cell_type": "code",
   "execution_count": null,
   "metadata": {},
   "outputs": [],
   "source": [
    "y_pred = linreg.predict(np.asarray(X_train.loc[0]).reshape(1, -1))\n",
    "preco_m2 = np.expm1(y_pred)/145\n",
    "preco_m2 = preco_m2[0]"
   ]
  },
  {
   "cell_type": "code",
   "execution_count": null,
   "metadata": {},
   "outputs": [],
   "source": [
    "print(\"O R$/m² sugerido através do modelo de regressão para um apratamento de 4 quartos, 4 suites, com 2 vagas e área de 145 m² é de: \",\"%.2f\" % round(preco_m2, 2))"
   ]
  },
  {
   "cell_type": "markdown",
   "metadata": {},
   "source": [
    "#### Análise do Nível de Ajuste do Modelo"
   ]
  },
  {
   "cell_type": "markdown",
   "metadata": {},
   "source": [
    "Conforme pode-se verificar no gráfico Q-Q abaixo, comparando dados normais independentes gerados aleatoriamente no eixo vertical a uma população normal padrão no eixo horizontal. A linearidade dos pontos sugere que os dados são normalmente distribuídos, corroborando com a validade estatística do modelo e dos valor de m² de venda sugerido."
   ]
  },
  {
   "cell_type": "code",
   "execution_count": null,
   "metadata": {},
   "outputs": [],
   "source": [
    "# QQ-plot of residuals\n",
    "residuals = model.resid\n",
    "fig = sm.graphics.qqplot(residuals, dist=stats.norm, alpha = 0.3, line='45', fit=True)\n",
    "fig.show()"
   ]
  },
  {
   "cell_type": "markdown",
   "metadata": {},
   "source": [
    "### Benchmark Selecionado\n",
    "O edifício Portinax encontra-se na rua vizinha, paralela aos terrenos com distância do mar equivalente. O produto para os terrenos em questão deverão ter qualidade, padrão de acabamento e programa parecidos, inclusive tomando-se partido do potencial de vista mar que o terreno possue."
   ]
  },
  {
   "cell_type": "markdown",
   "metadata": {},
   "source": [
    "<img src='balneario_ml/images/comp_1.png' width='900'></tr></table>"
   ]
  },
  {
   "cell_type": "markdown",
   "metadata": {},
   "source": [
    "<img src='balneario_ml/images/comp_2.png' width='900'></tr></table>"
   ]
  },
  {
   "cell_type": "markdown",
   "metadata": {},
   "source": [
    "<img src='balneario_ml/images/comp_3.png' width='900'></tr></table>"
   ]
  },
  {
   "cell_type": "markdown",
   "metadata": {},
   "source": [
    "#### Análise dos Valores de Benchmark"
   ]
  },
  {
   "cell_type": "markdown",
   "metadata": {},
   "source": [
    "<img src='balneario_ml/images/bench.png' width='600'></tr></table>"
   ]
  },
  {
   "cell_type": "markdown",
   "metadata": {},
   "source": [
    "Conforme modelo e análise de benchmark, obteve-se os respectivos valores de 13.346 reais/m² e 14.237,73 reais/m².Aplicando um deflator sobre a média dos dois valores obtemos o resultado de 11.000,00 reais/m² como valor conservador e 12.500,00 reais/m² como base case para lançamento. Vis-à-vis este patamar de valor de m² de venda, sugere-se um percentual entre 12,5% à 17,5% para permuta financeira."
   ]
  },
  {
   "cell_type": "markdown",
   "metadata": {},
   "source": [
    "<img src='balneario_ml/images/precificacao.png' width='600'></tr></table>"
   ]
  },
  {
   "cell_type": "markdown",
   "metadata": {},
   "source": [
    "# Conclusão"
   ]
  },
  {
   "cell_type": "markdown",
   "metadata": {},
   "source": [
    "Valor de venda sugerido para os terrenos deve estar no intervalo entre 3.925.625 reais e 6.245.312 reais"
   ]
  },
  {
   "cell_type": "code",
   "execution_count": null,
   "metadata": {},
   "outputs": [],
   "source": []
  }
 ],
 "metadata": {
  "kernelspec": {
   "display_name": "Python 3",
   "language": "python",
   "name": "python3"
  },
  "language_info": {
   "codemirror_mode": {
    "name": "ipython",
    "version": 3
   },
   "file_extension": ".py",
   "mimetype": "text/x-python",
   "name": "python",
   "nbconvert_exporter": "python",
   "pygments_lexer": "ipython3",
   "version": "3.8.5"
  }
 },
 "nbformat": 4,
 "nbformat_minor": 1
}